{
 "cells": [
  {
   "cell_type": "code",
   "execution_count": 24,
   "metadata": {
    "collapsed": false
   },
   "outputs": [
    {
     "data": {
      "text/plain": [
       "<warc.warc.WARCFile instance at 0x1041f1950>"
      ]
     },
     "execution_count": 24,
     "metadata": {},
     "output_type": "execute_result"
    }
   ],
   "source": [
    "import gzip\n",
    "#\n",
    "import boto\n",
    "import warc\n",
    "#\n",
    "from boto.s3.key import Key\n",
    "path=\"/Users/aishwaryachinnari/Desktop/myproj/D/capestone/dataset/CC-MAIN-20140707234000-00000-ip-10-180-212-248.ec2.internal.warc\"\n",
    "f = warc.WARCFile(fileobj=gzip.open(\"/Users/aishwaryachinnari/Desktop/myproj/D/capestone/dataset/CC-MAIN-20140707234000-00000-ip-10-180-212-248.ec2.internal.warc\"))\n",
    "f"
   ]
  },
  {
   "cell_type": "code",
   "execution_count": 26,
   "metadata": {
    "collapsed": false
   },
   "outputs": [],
   "source": [
    "temp = f.read_record\n"
   ]
  },
  {
   "cell_type": "code",
   "execution_count": 31,
   "metadata": {
    "collapsed": false
   },
   "outputs": [
    {
     "name": "stdout",
     "output_type": "stream",
     "text": [
      "None\n",
      "<bound method FilePart.readline of <warc.utils.FilePart instance at 0x1041fb200>>\n",
      "http://02unleashed.com/product-usage/\n",
      "<bound method FilePart.readline of <warc.utils.FilePart instance at 0x1041fb680>>\n",
      "http://02unleashed.com/product-usage/\n",
      "<bound method FilePart.readline of <warc.utils.FilePart instance at 0x1041fb710>>\n",
      "http://02unleashed.com/product-usage/\n",
      "<bound method FilePart.readline of <warc.utils.FilePart instance at 0x1041fbb00>>\n",
      "http://0pointer.de/photos/?gallery=Canaries%202009-07&photo=1625&exif_style=&show_thumbs=\n",
      "<bound method FilePart.readline of <warc.utils.FilePart instance at 0x1041fb200>>\n",
      "http://0pointer.de/photos/?gallery=Canaries%202009-07&photo=1625&exif_style=&show_thumbs=\n",
      "<bound method FilePart.readline of <warc.utils.FilePart instance at 0x1041fba70>>\n",
      "http://0pointer.de/photos/?gallery=Canaries%202009-07&photo=1625&exif_style=&show_thumbs=\n",
      "<bound method FilePart.readline of <warc.utils.FilePart instance at 0x1041fb6c8>>\n",
      "http://0pointer.de/photos/?gallery=India%202007-12&photo=119&exif_style=&show_thumbs=\n",
      "<bound method FilePart.readline of <warc.utils.FilePart instance at 0x1041fbb00>>\n",
      "http://0pointer.de/photos/?gallery=India%202007-12&photo=119&exif_style=&show_thumbs=\n",
      "<bound method FilePart.readline of <warc.utils.FilePart instance at 0x1041fb710>>\n",
      "http://0pointer.de/photos/?gallery=India%202007-12&photo=119&exif_style=&show_thumbs=\n",
      "<bound method FilePart.readline of <warc.utils.FilePart instance at 0x1041fb680>>\n"
     ]
    }
   ],
   "source": [
    "from itertools import islice\n",
    "\n",
    "N = 10\n",
    "warc_file = warc.open(path)\n",
    "for record in islice(warc_file, N):\n",
    "    print(record.url)\n",
    "    print(record.payload.readline.)"
   ]
  },
  {
   "cell_type": "code",
   "execution_count": null,
   "metadata": {
    "collapsed": true
   },
   "outputs": [],
   "source": []
  }
 ],
 "metadata": {
  "anaconda-cloud": {},
  "kernelspec": {
   "display_name": "Python [Root]",
   "language": "python",
   "name": "Python [Root]"
  },
  "language_info": {
   "codemirror_mode": {
    "name": "ipython",
    "version": 2
   },
   "file_extension": ".py",
   "mimetype": "text/x-python",
   "name": "python",
   "nbconvert_exporter": "python",
   "pygments_lexer": "ipython2",
   "version": "2.7.12"
  }
 },
 "nbformat": 4,
 "nbformat_minor": 0
}
