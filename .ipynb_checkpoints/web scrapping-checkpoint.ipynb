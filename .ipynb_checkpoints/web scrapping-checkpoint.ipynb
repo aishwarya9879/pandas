{
 "cells": [
  {
   "cell_type": "code",
   "execution_count": 9,
   "metadata": {
    "collapsed": true
   },
   "outputs": [],
   "source": [
    "# -*- coding: utf-8 -*-\n",
    "import scrapy\n",
    "from scrapy.http import HtmlResponse\n",
    "\n",
    "class TripadvisorSpider(scrapy.Spider):\n",
    "    name = 'tripadvisor'\n",
    "    allowed_domains = ['tripadvisor.com']\n",
    "    start_urls = (\n",
    "        'https://www.tripadvisor.com/Restaurants-g60713-zfn7222616-San_Francisco_California.html',\n",
    "    )\n",
    "\n",
    "    def parse(self, response):\n",
    "        # process each restaurant link\n",
    "        urls = response.xpath('//h3[@class=\"title\"]/a/@href').extract()\n",
    "        for url in urls:\n",
    "            absolute_url = response.urljoin(url)\n",
    "            request = scrapy.Request(\n",
    "                absolute_url, callback=self.parse_restaurant)\n",
    "            yield request\n",
    "\n",
    "        # process next page\n",
    "        next_page_url = response.xpath('//a[text()=\"Next\"]/@href').extract_first()\n",
    "        absolute_next_page_url = response.urljoin(next_page_url)\n",
    "        request = scrapy.Request(absolute_next_page_url)\n",
    "        yield request\n",
    "\n",
    "    def parse_restaurant(self, response):\n",
    "        name = response.xpath(\n",
    "            '//div[@class=\"mapContainer\"]/@data-name').extract_first()\n",
    "        rating = response.xpath(\n",
    "            '//img[@property=\"ratingValue\"]/@content').extract_first()\n",
    "        latitude = response.xpath(\n",
    "            '//div[@class=\"mapContainer\"]/@data-lat').extract_first()\n",
    "        longitude = response.xpath(\n",
    "            '//div[@class=\"mapContainer\"]/@data-lng').extract_first()\n",
    "        restaurant = {\n",
    "            'name': name,\n",
    "            'rating': rating,\n",
    "            'latitude': latitude,\n",
    "            'longitude': longitude,\n",
    "            'url': response.url}\n",
    "        yield restaurant"
   ]
  },
  {
   "cell_type": "code",
   "execution_count": 11,
   "metadata": {
    "collapsed": false
   },
   "outputs": [],
   "source": [
    "temp=TripadvisorSpider()\n"
   ]
  },
  {
   "cell_type": "code",
   "execution_count": 29,
   "metadata": {
    "collapsed": false
   },
   "outputs": [
    {
     "data": {
      "text/plain": [
       "<200 https://www.tripadvisor.com/Restaurants-g60713-zfn7222616-San_Francisco_California.html>"
      ]
     },
     "execution_count": 29,
     "metadata": {},
     "output_type": "execute_result"
    }
   ],
   "source": [
    "response = HtmlResponse(url=\"https://www.tripadvisor.com/Restaurants-g60713-zfn7222616-San_Francisco_California.html\")\n",
    "response"
   ]
  },
  {
   "cell_type": "code",
   "execution_count": null,
   "metadata": {
    "collapsed": false
   },
   "outputs": [],
   "source": []
  },
  {
   "cell_type": "code",
   "execution_count": 31,
   "metadata": {
    "collapsed": false
   },
   "outputs": [
    {
     "name": "stdout",
     "output_type": "stream",
     "text": [
      "https://www.tripadvisor.com/Restaurants-g60713-zfn7222616-San_Francisco_California.html\n"
     ]
    }
   ],
   "source": [
    "print response.url"
   ]
  },
  {
   "cell_type": "code",
   "execution_count": 32,
   "metadata": {
    "collapsed": true
   },
   "outputs": [],
   "source": [
    "res = temp.parse_restaurant(response)"
   ]
  },
  {
   "cell_type": "code",
   "execution_count": 36,
   "metadata": {
    "collapsed": false
   },
   "outputs": [
    {
     "ename": "TypeError",
     "evalue": "'generator' object has no attribute '__getitem__'",
     "output_type": "error",
     "traceback": [
      "\u001b[0;31m---------------------------------------------------------------------------\u001b[0m",
      "\u001b[0;31mTypeError\u001b[0m                                 Traceback (most recent call last)",
      "\u001b[0;32m<ipython-input-36-6d1e022a0c53>\u001b[0m in \u001b[0;36m<module>\u001b[0;34m()\u001b[0m\n\u001b[0;32m----> 1\u001b[0;31m \u001b[0;32mprint\u001b[0m \u001b[0mres\u001b[0m\u001b[0;34m[\u001b[0m\u001b[0;34m'name'\u001b[0m\u001b[0;34m]\u001b[0m\u001b[0;34m\u001b[0m\u001b[0m\n\u001b[0m",
      "\u001b[0;31mTypeError\u001b[0m: 'generator' object has no attribute '__getitem__'"
     ]
    }
   ],
   "source": [
    "print res['name']"
   ]
  },
  {
   "cell_type": "code",
   "execution_count": null,
   "metadata": {
    "collapsed": true
   },
   "outputs": [],
   "source": []
  }
 ],
 "metadata": {
  "anaconda-cloud": {},
  "kernelspec": {
   "display_name": "Python [Root]",
   "language": "python",
   "name": "Python [Root]"
  },
  "language_info": {
   "codemirror_mode": {
    "name": "ipython",
    "version": 2
   },
   "file_extension": ".py",
   "mimetype": "text/x-python",
   "name": "python",
   "nbconvert_exporter": "python",
   "pygments_lexer": "ipython2",
   "version": "2.7.12"
  }
 },
 "nbformat": 4,
 "nbformat_minor": 0
}
